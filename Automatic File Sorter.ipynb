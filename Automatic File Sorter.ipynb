{
 "cells": [
  {
   "cell_type": "code",
   "execution_count": 20,
   "id": "eace7061-27c8-4e19-a7f0-f83867174052",
   "metadata": {},
   "outputs": [],
   "source": [
    "import os,shutil"
   ]
  },
  {
   "cell_type": "code",
   "execution_count": 21,
   "id": "d6677fca-c348-4a71-bd71-b2645cdcc0d9",
   "metadata": {},
   "outputs": [],
   "source": [
    "path=r\"C:/Users/K Suresh/Desktop/Data Analytics/Python/New folder/\""
   ]
  },
  {
   "cell_type": "code",
   "execution_count": 22,
   "id": "5ba87ea3-cf51-44d6-95e3-27a45b9d677e",
   "metadata": {},
   "outputs": [],
   "source": [
    "file_name=os.listdir(path)"
   ]
  },
  {
   "cell_type": "code",
   "execution_count": 23,
   "id": "280b4234-51e7-452a-add1-236d0cafa013",
   "metadata": {},
   "outputs": [],
   "source": [
    "folder_names=['csv files','excel files','image files','text files']\n",
    "for i in range(len(folder_names)):\n",
    "    if not os.path.exists(path+folder_names[i]):\n",
    "        print(path+folder_names[i])\n",
    "        os.makedirs(path+folder_names[i])"
   ]
  },
  {
   "cell_type": "code",
   "execution_count": 24,
   "id": "602f91a0-cf09-492a-a1b1-0c6cbb1b8f43",
   "metadata": {},
   "outputs": [
    {
     "name": "stdout",
     "output_type": "stream",
     "text": [
      "Hello\n",
      "Hello\n",
      "Hello\n",
      "Hello\n"
     ]
    }
   ],
   "source": [
    "for file in file_name:\n",
    "    if \".csv\" in file and not os.path.exists(path+\"csv files/\"+file):\n",
    "        shutil.move(path+file,path+\"csv files/\"+file)\n",
    "    elif \".png\" in file and not os.path.exists(path+\"image files/\"+file):\n",
    "        shutil.move(path+file,path+\"image files/\"+file)\n",
    "    elif \".txt\" in file and not os.path.exists(path+\"text files/\"+file):\n",
    "        shutil.move(path+file,path+\"text files/\"+file)\n",
    "    elif \".xlsx\" in file and not os.path.exists(path+\"excel files/\"+file):\n",
    "        shutil.move(path+file,path+\"excel files/\"+file)\n",
    "    else:\n",
    "        print(\"Hello\")"
   ]
  },
  {
   "cell_type": "code",
   "execution_count": null,
   "id": "6650b9a2-2c5a-459e-a387-ac0828772cc0",
   "metadata": {},
   "outputs": [],
   "source": []
  },
  {
   "cell_type": "code",
   "execution_count": null,
   "id": "c7bb1a62-f90b-440d-8c90-a08714edf7e4",
   "metadata": {},
   "outputs": [],
   "source": []
  },
  {
   "cell_type": "code",
   "execution_count": null,
   "id": "7887874d-f55a-4dad-a92f-6bef2748dcdd",
   "metadata": {},
   "outputs": [],
   "source": []
  },
  {
   "cell_type": "code",
   "execution_count": null,
   "id": "8d5d1bb8-5b8a-4df6-a3d6-9fc450be970e",
   "metadata": {},
   "outputs": [],
   "source": []
  },
  {
   "cell_type": "code",
   "execution_count": null,
   "id": "905f2ac1-548b-4fca-8a8f-d7178d32e16a",
   "metadata": {},
   "outputs": [],
   "source": []
  },
  {
   "cell_type": "code",
   "execution_count": null,
   "id": "b53efe6a-940e-451f-b35f-53b6bfc41de8",
   "metadata": {},
   "outputs": [],
   "source": []
  },
  {
   "cell_type": "code",
   "execution_count": null,
   "id": "e8793b28-d104-44f2-b9f6-fee7f37f8a15",
   "metadata": {},
   "outputs": [],
   "source": []
  },
  {
   "cell_type": "code",
   "execution_count": null,
   "id": "42630192-77d7-46d0-a92c-1e4b1109181d",
   "metadata": {},
   "outputs": [],
   "source": []
  },
  {
   "cell_type": "code",
   "execution_count": null,
   "id": "288f8ab6-3954-45e0-8b2a-d600e0c7fc20",
   "metadata": {},
   "outputs": [],
   "source": []
  },
  {
   "cell_type": "code",
   "execution_count": null,
   "id": "06cdd342-b08e-46d4-805c-5963ad8b0849",
   "metadata": {},
   "outputs": [],
   "source": []
  },
  {
   "cell_type": "code",
   "execution_count": null,
   "id": "91662358-394a-43c9-b584-c1d0148f180d",
   "metadata": {},
   "outputs": [],
   "source": []
  }
 ],
 "metadata": {
  "kernelspec": {
   "display_name": "Python 3 (ipykernel)",
   "language": "python",
   "name": "python3"
  },
  "language_info": {
   "codemirror_mode": {
    "name": "ipython",
    "version": 3
   },
   "file_extension": ".py",
   "mimetype": "text/x-python",
   "name": "python",
   "nbconvert_exporter": "python",
   "pygments_lexer": "ipython3",
   "version": "3.11.7"
  }
 },
 "nbformat": 4,
 "nbformat_minor": 5
}
